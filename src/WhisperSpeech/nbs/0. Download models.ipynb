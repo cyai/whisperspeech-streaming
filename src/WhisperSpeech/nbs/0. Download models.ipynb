{
 "cells": [
  {
   "cell_type": "code",
   "execution_count": null,
   "id": "58d9c51c",
   "metadata": {},
   "outputs": [],
   "source": [
    "#| default_exp fetch_models"
   ]
  },
  {
   "cell_type": "code",
   "execution_count": null,
   "id": "3f222bab",
   "metadata": {},
   "outputs": [],
   "source": [
    "#| exporti\n",
    "from encodec.model import EncodecModel\n",
    "from whisperspeech import utils\n",
    "from fastcore.script import call_parse\n",
    "import whisperx\n",
    "import whisper\n",
    "from speechbrain.pretrained import EncoderClassifier\n",
    "from os.path import expanduser\n",
    "import urllib.request"
   ]
  },
  {
   "cell_type": "markdown",
   "id": "24c38c45",
   "metadata": {},
   "source": [
    "# Download models\n",
    "\n",
    "Download and cache all the models we might need for training and preprocessing. Run this first on a cluster node that has unlimited internet access.\n",
    "\n",
    "**Usage:**  \n",
    "```\n",
    "python -m whisperspeech.fetch_models\n",
    "```"
   ]
  },
  {
   "cell_type": "code",
   "execution_count": null,
   "id": "10ecf6bb",
   "metadata": {},
   "outputs": [],
   "source": [
    "#| exporti\n",
    "def load_whisperx(model, lang):\n",
    "    try:\n",
    "        whisperx.asr.load_model(model, \"cpu\", compute_type=\"float16\", language=lang)\n",
    "    except ValueError as exc:\n",
    "        print(exc.args[0])\n",
    "        if exc.args[0] != \"Requested float16 compute type, but the target device or backend do not support efficient float16 computation.\":\n",
    "            raise\n",
    "\n",
    "@call_parse\n",
    "def main():\n",
    "    EncodecModel.encodec_model_24khz()\n",
    "    whisper.load_model('base.en')\n",
    "    whisper.load_model('small.en')\n",
    "    whisper.load_model('medium')\n",
    "    whisperx.vad.load_vad_model('cpu')\n",
    "    load_whisperx('small.en', 'en')\n",
    "    load_whisperx('medium.en', 'en')\n",
    "    load_whisperx('medium', 'en')\n",
    "    load_whisperx('large-v3', 'en')\n",
    "    EncoderClassifier.from_hparams(source=\"speechbrain/spkrec-ecapa-voxceleb\",\n",
    "                                   savedir=expanduser(\"~/.cache/speechbrain/\"))\n",
    "    urllib.request.urlretrieve('https://github.com/marianne-m/brouhaha-vad/raw/main/models/best/checkpoints/best.ckpt',\n",
    "                               expanduser('~/.cache/brouhaha.ckpt'))"
   ]
  },
  {
   "cell_type": "code",
   "execution_count": null,
   "id": "05221a0e",
   "metadata": {},
   "outputs": [],
   "source": [
    "main()"
   ]
  }
 ],
 "metadata": {
  "kernelspec": {
   "display_name": "python3",
   "language": "python",
   "name": "python3"
  }
 },
 "nbformat": 4,
 "nbformat_minor": 5
}
