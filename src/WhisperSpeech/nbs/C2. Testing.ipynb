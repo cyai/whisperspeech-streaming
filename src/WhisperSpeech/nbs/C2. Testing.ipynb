{
 "cells": [
  {
   "cell_type": "code",
   "execution_count": null,
   "id": "92b3cb1d",
   "metadata": {},
   "outputs": [],
   "source": [
    "#| default_exp testing"
   ]
  },
  {
   "cell_type": "code",
   "execution_count": null,
   "id": "eda9d55b",
   "metadata": {},
   "outputs": [],
   "source": [
    "#| exporti\n",
    "import webdataset as wds"
   ]
  },
  {
   "cell_type": "code",
   "execution_count": null,
   "id": "a066e512",
   "metadata": {},
   "outputs": [],
   "source": [
    "#| export\n",
    "def test_model(model, ds, bs=1):\n",
    "    dev = next(model.parameters()).device\n",
    "    logits, loss = model(*[x.to(dev) for x in next(iter(wds.WebLoader(ds, batch_size=None).unbatched().batched(bs)))])\n",
    "    loss.backward()\n",
    "    for name, param in model.named_parameters():\n",
    "        if param.grad is None:\n",
    "            print('Unused parameter: '+name)"
   ]
  }
 ],
 "metadata": {
  "kernelspec": {
   "display_name": "python3",
   "language": "python",
   "name": "python3"
  }
 },
 "nbformat": 4,
 "nbformat_minor": 5
}
